{
 "cells": [
  {
   "cell_type": "markdown",
   "metadata": {},
   "source": [
    "# Autoencoders\n",
    "\n",
    "<img src=\"https://blog.keras.io/img/ae/autoencoder_schema.jpg\"/>\n"
   ]
  },
  {
   "cell_type": "code",
   "execution_count": 1,
   "metadata": {},
   "outputs": [
    {
     "name": "stderr",
     "output_type": "stream",
     "text": [
      "Using TensorFlow backend.\n"
     ]
    },
    {
     "name": "stdout",
     "output_type": "stream",
     "text": [
      "WARNING:tensorflow:From /usr/local/lib/python3.7/site-packages/tensorflow/python/framework/op_def_library.py:263: colocate_with (from tensorflow.python.framework.ops) is deprecated and will be removed in a future version.\n",
      "Instructions for updating:\n",
      "Colocations handled automatically by placer.\n"
     ]
    }
   ],
   "source": [
    "from keras.layers import Input, Dense, Conv2D, MaxPooling2D, UpSampling2D\n",
    "from keras.models import Model\n",
    "from keras import backend as K\n",
    "\n",
    "input_img = Input(shape=(28, 28, 1))  # adapt this if using `channels_first` image data format\n",
    "\n",
    "x = Conv2D(16, (3, 3), activation='relu', padding='same')(input_img)\n",
    "x = MaxPooling2D((2, 2), padding='same')(x)\n",
    "x = Conv2D(8, (3, 3), activation='relu', padding='same')(x)\n",
    "x = MaxPooling2D((2, 2), padding='same')(x)\n",
    "x = Conv2D(8, (3, 3), activation='relu', padding='same')(x)\n",
    "encoded = MaxPooling2D((2, 2), padding='same')(x)\n",
    "\n",
    "# at this point the representation is (4, 4, 8) i.e. 128-dimensional\n",
    "\n",
    "x = Conv2D(8, (3, 3), activation='relu', padding='same')(encoded)\n",
    "x = UpSampling2D((2, 2))(x)\n",
    "x = Conv2D(8, (3, 3), activation='relu', padding='same')(x)\n",
    "x = UpSampling2D((2, 2))(x)\n",
    "x = Conv2D(16, (3, 3), activation='relu')(x)\n",
    "x = UpSampling2D((2, 2))(x)\n",
    "decoded = Conv2D(1, (3, 3), activation='sigmoid', padding='same')(x)\n",
    "\n",
    "autoencoder = Model(input_img, decoded)\n",
    "autoencoder.compile(optimizer='adadelta', loss='binary_crossentropy')"
   ]
  },
  {
   "cell_type": "markdown",
   "metadata": {},
   "source": [
    "## Prepare the data"
   ]
  },
  {
   "cell_type": "code",
   "execution_count": 3,
   "metadata": {},
   "outputs": [],
   "source": [
    "from keras.datasets import mnist\n",
    "import numpy as np\n",
    "\n",
    "(x_train, _), (x_test, _) = mnist.load_data()\n",
    "\n",
    "x_train = x_train.astype('float32') / 255.\n",
    "x_test = x_test.astype('float32') / 255.\n",
    "x_train = np.reshape(x_train, (len(x_train), 28, 28, 1))  # adapt this if using `channels_first` image data format\n",
    "x_test = np.reshape(x_test, (len(x_test), 28, 28, 1))  # adapt this if using `channels_first` image data format"
   ]
  },
  {
   "cell_type": "markdown",
   "metadata": {},
   "source": [
    "## Open Tensorboard to see live training\n",
    "\n",
    "```sh\n",
    "$ tensorboard --logdir=/tmp/autoencoder\n",
    "```"
   ]
  },
  {
   "cell_type": "code",
   "execution_count": null,
   "metadata": {},
   "outputs": [],
   "source": [
    "!tensorboard --logdir=/tmp/autoencoder"
   ]
  },
  {
   "cell_type": "code",
   "execution_count": 5,
   "metadata": {},
   "outputs": [
    {
     "data": {
      "text/html": [
       "\n",
       "<iframe src=\"http://localhost:6006\" style=\"width:100%; height: 1000px\"/>\n"
      ],
      "text/plain": [
       "<IPython.core.display.HTML object>"
      ]
     },
     "metadata": {},
     "output_type": "display_data"
    }
   ],
   "source": [
    "%%html\n",
    "\n",
    "<iframe src=\"http://localhost:6006\" style=\"width:100%; height: 1000px\"/>"
   ]
  },
  {
   "cell_type": "code",
   "execution_count": 4,
   "metadata": {},
   "outputs": [
    {
     "name": "stdout",
     "output_type": "stream",
     "text": [
      "WARNING:tensorflow:From /usr/local/lib/python3.7/site-packages/tensorflow/python/ops/math_ops.py:3066: to_int32 (from tensorflow.python.ops.math_ops) is deprecated and will be removed in a future version.\n",
      "Instructions for updating:\n",
      "Use tf.cast instead.\n",
      "Train on 60000 samples, validate on 10000 samples\n",
      "Epoch 1/50\n",
      "60000/60000 [==============================] - 58s 965us/step - loss: 0.2093 - val_loss: 0.1611\n",
      "Epoch 2/50\n",
      "60000/60000 [==============================] - 50s 829us/step - loss: 0.1529 - val_loss: 0.1477\n",
      "Epoch 3/50\n",
      "60000/60000 [==============================] - 50s 828us/step - loss: 0.1390 - val_loss: 0.1341\n",
      "Epoch 4/50\n",
      "60000/60000 [==============================] - 50s 837us/step - loss: 0.1313 - val_loss: 0.1274\n",
      "Epoch 5/50\n",
      "60000/60000 [==============================] - 50s 835us/step - loss: 0.1268 - val_loss: 0.1234\n",
      "Epoch 6/50\n",
      "60000/60000 [==============================] - 53s 878us/step - loss: 0.1233 - val_loss: 0.1192\n",
      "Epoch 7/50\n",
      "60000/60000 [==============================] - 50s 829us/step - loss: 0.1207 - val_loss: 0.1174\n",
      "Epoch 8/50\n",
      "60000/60000 [==============================] - 50s 832us/step - loss: 0.1188 - val_loss: 0.1153\n",
      "Epoch 9/50\n",
      "60000/60000 [==============================] - 51s 851us/step - loss: 0.1174 - val_loss: 0.1174\n",
      "Epoch 10/50\n",
      "60000/60000 [==============================] - 52s 861us/step - loss: 0.1160 - val_loss: 0.1155\n",
      "Epoch 11/50\n",
      "60000/60000 [==============================] - 52s 860us/step - loss: 0.1147 - val_loss: 0.1127\n",
      "Epoch 12/50\n",
      "60000/60000 [==============================] - 52s 866us/step - loss: 0.1137 - val_loss: 0.1100\n",
      "Epoch 13/50\n",
      "60000/60000 [==============================] - 59s 987us/step - loss: 0.1126 - val_loss: 0.1136\n",
      "Epoch 14/50\n",
      "60000/60000 [==============================] - 57s 957us/step - loss: 0.1120 - val_loss: 0.1112\n",
      "Epoch 15/50\n",
      "60000/60000 [==============================] - 62s 1ms/step - loss: 0.1110 - val_loss: 0.1107\n",
      "Epoch 16/50\n",
      "60000/60000 [==============================] - 58s 969us/step - loss: 0.1105 - val_loss: 0.1095\n",
      "Epoch 17/50\n",
      "60000/60000 [==============================] - 56s 938us/step - loss: 0.1095 - val_loss: 0.1055\n",
      "Epoch 18/50\n",
      "60000/60000 [==============================] - 58s 959us/step - loss: 0.1089 - val_loss: 0.1083\n",
      "Epoch 19/50\n",
      "60000/60000 [==============================] - 58s 971us/step - loss: 0.1086 - val_loss: 0.1063\n",
      "Epoch 20/50\n",
      "60000/60000 [==============================] - 59s 991us/step - loss: 0.1081 - val_loss: 0.1046\n",
      "Epoch 21/50\n",
      "60000/60000 [==============================] - 55s 910us/step - loss: 0.1076 - val_loss: 0.1102\n",
      "Epoch 22/50\n",
      "60000/60000 [==============================] - 52s 872us/step - loss: 0.1073 - val_loss: 0.1047\n",
      "Epoch 23/50\n",
      "60000/60000 [==============================] - 54s 907us/step - loss: 0.1066 - val_loss: 0.1063\n",
      "Epoch 24/50\n",
      "60000/60000 [==============================] - 62s 1ms/step - loss: 0.1063 - val_loss: 0.1039\n",
      "Epoch 25/50\n",
      "60000/60000 [==============================] - 52s 874us/step - loss: 0.1058 - val_loss: 0.1042\n",
      "Epoch 26/50\n",
      "60000/60000 [==============================] - 55s 919us/step - loss: 0.1057 - val_loss: 0.1037\n",
      "Epoch 27/50\n",
      "60000/60000 [==============================] - 54s 901us/step - loss: 0.1056 - val_loss: 0.1054\n",
      "Epoch 28/50\n",
      "60000/60000 [==============================] - 56s 930us/step - loss: 0.1052 - val_loss: 0.1038\n",
      "Epoch 29/50\n",
      "60000/60000 [==============================] - 54s 902us/step - loss: 0.1048 - val_loss: 0.1026\n",
      "Epoch 30/50\n",
      "60000/60000 [==============================] - 56s 932us/step - loss: 0.1042 - val_loss: 0.1018\n",
      "Epoch 31/50\n",
      "60000/60000 [==============================] - 58s 963us/step - loss: 0.1039 - val_loss: 0.1015\n",
      "Epoch 32/50\n",
      "60000/60000 [==============================] - 56s 941us/step - loss: 0.1038 - val_loss: 0.1046\n",
      "Epoch 33/50\n",
      "60000/60000 [==============================] - 56s 927us/step - loss: 0.1037 - val_loss: 0.1043\n",
      "Epoch 34/50\n",
      "60000/60000 [==============================] - 65s 1ms/step - loss: 0.1034 - val_loss: 0.1001\n",
      "Epoch 35/50\n",
      "60000/60000 [==============================] - 64s 1ms/step - loss: 0.1029 - val_loss: 0.1019\n",
      "Epoch 36/50\n",
      "60000/60000 [==============================] - 67s 1ms/step - loss: 0.1029 - val_loss: 0.1015\n",
      "Epoch 37/50\n",
      "60000/60000 [==============================] - 62s 1ms/step - loss: 0.1027 - val_loss: 0.1006\n",
      "Epoch 38/50\n",
      "60000/60000 [==============================] - 66s 1ms/step - loss: 0.1026 - val_loss: 0.1011\n",
      "Epoch 39/50\n",
      "60000/60000 [==============================] - 61s 1ms/step - loss: 0.1023 - val_loss: 0.1004\n",
      "Epoch 40/50\n",
      "60000/60000 [==============================] - 67s 1ms/step - loss: 0.1021 - val_loss: 0.1033\n",
      "Epoch 41/50\n",
      "60000/60000 [==============================] - 66s 1ms/step - loss: 0.1018 - val_loss: 0.1016\n",
      "Epoch 42/50\n",
      "60000/60000 [==============================] - 68s 1ms/step - loss: 0.1017 - val_loss: 0.1009\n",
      "Epoch 43/50\n",
      "60000/60000 [==============================] - 87s 1ms/step - loss: 0.1017 - val_loss: 0.1018\n",
      "Epoch 44/50\n",
      "60000/60000 [==============================] - 69s 1ms/step - loss: 0.1014 - val_loss: 0.0985\n",
      "Epoch 45/50\n",
      "60000/60000 [==============================] - 72s 1ms/step - loss: 0.1010 - val_loss: 0.1015\n",
      "Epoch 46/50\n",
      "60000/60000 [==============================] - 79s 1ms/step - loss: 0.1008 - val_loss: 0.0992\n",
      "Epoch 47/50\n",
      "60000/60000 [==============================] - 65s 1ms/step - loss: 0.1007 - val_loss: 0.0976\n",
      "Epoch 48/50\n",
      "60000/60000 [==============================] - 64s 1ms/step - loss: 0.1008 - val_loss: 0.1000\n",
      "Epoch 49/50\n",
      "60000/60000 [==============================] - 63s 1ms/step - loss: 0.1006 - val_loss: 0.0986\n",
      "Epoch 50/50\n",
      "60000/60000 [==============================] - 68s 1ms/step - loss: 0.1003 - val_loss: 0.0981\n"
     ]
    },
    {
     "data": {
      "text/plain": [
       "<keras.callbacks.History at 0x129f38590>"
      ]
     },
     "execution_count": 4,
     "metadata": {},
     "output_type": "execute_result"
    }
   ],
   "source": [
    "from keras.callbacks import TensorBoard\n",
    "\n",
    "autoencoder.fit(x_train, x_train,\n",
    "                epochs=50,\n",
    "                batch_size=128,\n",
    "                shuffle=True,\n",
    "                validation_data=(x_test, x_test),\n",
    "                callbacks=[TensorBoard(log_dir='/tmp/autoencoder')])"
   ]
  },
  {
   "cell_type": "code",
   "execution_count": 8,
   "metadata": {},
   "outputs": [],
   "source": [
    "autoencoder.save(\"data/autoencoder_mnist.h5\")\n",
    "autoencoder.save_weights(\"data/autoencoder_weights_mnist.h5\")"
   ]
  },
  {
   "cell_type": "markdown",
   "metadata": {},
   "source": [
    "## Refs\n",
    "\n",
    "- https://blog.keras.io/building-autoencoders-in-keras.html"
   ]
  },
  {
   "cell_type": "code",
   "execution_count": null,
   "metadata": {},
   "outputs": [],
   "source": []
  }
 ],
 "metadata": {
  "kernelspec": {
   "display_name": "Python 3",
   "language": "python",
   "name": "python3"
  },
  "language_info": {
   "codemirror_mode": {
    "name": "ipython",
    "version": 3
   },
   "file_extension": ".py",
   "mimetype": "text/x-python",
   "name": "python",
   "nbconvert_exporter": "python",
   "pygments_lexer": "ipython3",
   "version": "3.7.5"
  }
 },
 "nbformat": 4,
 "nbformat_minor": 2
}
