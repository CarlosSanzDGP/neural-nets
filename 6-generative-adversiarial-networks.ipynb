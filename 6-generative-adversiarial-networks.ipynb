{
 "cells": [
  {
   "cell_type": "markdown",
   "metadata": {},
   "source": [
    "# Generative Adversarial Networks (GAN)\n",
    "\n",
    "<img src=\"https://miro.medium.com/max/3482/1*t78gwhhw-hn1CgXc1K89wA.png\" width=\"500\" />\n",
    "\n",
    "**Discriminator Model:** Outputs a value telling how valid the data is (Real vs Fake)\n",
    "<img src=\"https://miro.medium.com/max/1794/1*QHMGABbwL04x5VGYc_UWSA.png\" width=\"300\"/>\n",
    "\n",
    "**Generator (Adversarial Model):** Sythethizes data from noise\n",
    "<img src=\"https://miro.medium.com/max/1882/1*gvBT3h4JD7eUN0GexHwx2w.png\" width=\"300\"/>\n",
    "\n",
    "We connect the full pipeline\n",
    "<img src=\"https://miro.medium.com/max/1840/1*PIpd1jHbPc2QrTOPhvxoaw.png\" width=\"400\">"
   ]
  },
  {
   "cell_type": "code",
   "execution_count": null,
   "metadata": {},
   "outputs": [],
   "source": []
  },
  {
   "cell_type": "code",
   "execution_count": null,
   "metadata": {},
   "outputs": [],
   "source": []
  },
  {
   "cell_type": "markdown",
   "metadata": {},
   "source": [
    "## Refs:\n",
    "- https://towardsdatascience.com/gan-by-example-using-keras-on-tensorflow-backend-1a6d515a60d0\n",
    "- https://github.com/eriklindernoren/Keras-GAN"
   ]
  },
  {
   "cell_type": "code",
   "execution_count": 5,
   "metadata": {},
   "outputs": [
    {
     "data": {
      "text/html": [
       "<blockquote class=\"twitter-tweet\"><p lang=\"en\" dir=\"ltr\">4.5 years of GAN progress on face generation. <a href=\"https://t.co/kiQkuYULMC\">https://t.co/kiQkuYULMC</a> <a href=\"https://t.co/S4aBsU536b\">https://t.co/S4aBsU536b</a> <a href=\"https://t.co/8di6K6BxVC\">https://t.co/8di6K6BxVC</a> <a href=\"https://t.co/UEFhewds2M\">https://t.co/UEFhewds2M</a> <a href=\"https://t.co/s6hKQz9gLz\">https://t.co/s6hKQz9gLz</a> <a href=\"https://t.co/F9Dkcfrq8l\">pic.twitter.com/F9Dkcfrq8l</a></p>&mdash; Ian Goodfellow (@goodfellow_ian) <a href=\"https://twitter.com/goodfellow_ian/status/1084973596236144640?ref_src=twsrc%5Etfw\">January 15, 2019</a></blockquote> <script async src=\"https://platform.twitter.com/widgets.js\" charset=\"utf-8\"></script>\n"
      ],
      "text/plain": [
       "<IPython.core.display.HTML object>"
      ]
     },
     "metadata": {},
     "output_type": "display_data"
    }
   ],
   "source": [
    "%%html\n",
    "<blockquote class=\"twitter-tweet\"><p lang=\"en\" dir=\"ltr\">4.5 years of GAN progress on face generation. <a href=\"https://t.co/kiQkuYULMC\">https://t.co/kiQkuYULMC</a> <a href=\"https://t.co/S4aBsU536b\">https://t.co/S4aBsU536b</a> <a href=\"https://t.co/8di6K6BxVC\">https://t.co/8di6K6BxVC</a> <a href=\"https://t.co/UEFhewds2M\">https://t.co/UEFhewds2M</a> <a href=\"https://t.co/s6hKQz9gLz\">https://t.co/s6hKQz9gLz</a> <a href=\"https://t.co/F9Dkcfrq8l\">pic.twitter.com/F9Dkcfrq8l</a></p>&mdash; Ian Goodfellow (@goodfellow_ian) <a href=\"https://twitter.com/goodfellow_ian/status/1084973596236144640?ref_src=twsrc%5Etfw\">January 15, 2019</a></blockquote> <script async src=\"https://platform.twitter.com/widgets.js\" charset=\"utf-8\"></script>"
   ]
  },
  {
   "cell_type": "code",
   "execution_count": null,
   "metadata": {},
   "outputs": [],
   "source": []
  }
 ],
 "metadata": {
  "kernelspec": {
   "display_name": "Python 3",
   "language": "python",
   "name": "python3"
  },
  "language_info": {
   "codemirror_mode": {
    "name": "ipython",
    "version": 3
   },
   "file_extension": ".py",
   "mimetype": "text/x-python",
   "name": "python",
   "nbconvert_exporter": "python",
   "pygments_lexer": "ipython3",
   "version": "3.7.5"
  }
 },
 "nbformat": 4,
 "nbformat_minor": 2
}
